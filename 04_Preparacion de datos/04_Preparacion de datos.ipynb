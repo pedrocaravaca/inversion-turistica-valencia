{
 "cells": [
  {
   "cell_type": "markdown",
   "id": "d8effe98",
   "metadata": {},
   "source": [
    "# PREPARACION DE DATOS"
   ]
  },
  {
   "cell_type": "markdown",
   "id": "1e7f1a70",
   "metadata": {},
   "source": [
    "En esta fase vamos a crear nuevas variables o transformar las existentes para poder dar mejor respuesta a nuestro objetivo.\n",
    "\n"
   ]
  },
  {
   "cell_type": "markdown",
   "id": "9a6a6b4e",
   "metadata": {},
   "source": [
    "## SET UP"
   ]
  },
  {
   "cell_type": "code",
   "execution_count": 25,
   "id": "08010f88",
   "metadata": {},
   "outputs": [],
   "source": [
    "import numpy as np\n",
    "import pandas as pd\n",
    "import matplotlib.pyplot as plt\n",
    "%matplotlib inline\n",
    "import seaborn as sns\n",
    "import sqlalchemy as sa\n",
    "\n",
    "#Automcompletar rápido\n",
    "%config IPCompleter.greedy=True\n",
    "\n",
    "pd.options.display.max_columns = None"
   ]
  },
  {
   "cell_type": "markdown",
   "id": "f7b01958",
   "metadata": {},
   "source": [
    "## CARGA DE DATOS"
   ]
  },
  {
   "cell_type": "code",
   "execution_count": 26,
   "id": "c5bb22c1",
   "metadata": {},
   "outputs": [
    {
     "data": {
      "text/html": [
       "<div>\n",
       "<style scoped>\n",
       "    .dataframe tbody tr th:only-of-type {\n",
       "        vertical-align: middle;\n",
       "    }\n",
       "\n",
       "    .dataframe tbody tr th {\n",
       "        vertical-align: top;\n",
       "    }\n",
       "\n",
       "    .dataframe thead th {\n",
       "        text-align: right;\n",
       "    }\n",
       "</style>\n",
       "<table border=\"1\" class=\"dataframe\">\n",
       "  <thead>\n",
       "    <tr style=\"text-align: right;\">\n",
       "      <th></th>\n",
       "      <th>index</th>\n",
       "      <th>id</th>\n",
       "      <th>name</th>\n",
       "      <th>host_id</th>\n",
       "      <th>neighbourhood_group</th>\n",
       "      <th>neighbourhood</th>\n",
       "      <th>latitude</th>\n",
       "      <th>longitude</th>\n",
       "      <th>room_type</th>\n",
       "      <th>price</th>\n",
       "      <th>minimum_nights</th>\n",
       "      <th>calculated_host_listings_count</th>\n",
       "      <th>availability_365</th>\n",
       "      <th>description</th>\n",
       "      <th>host_is_superhost</th>\n",
       "      <th>accommodates</th>\n",
       "      <th>bedrooms</th>\n",
       "      <th>beds</th>\n",
       "      <th>number_of_reviews</th>\n",
       "      <th>review_scores_rating</th>\n",
       "      <th>review_scores_communication</th>\n",
       "      <th>review_scores_location</th>\n",
       "      <th>precio_m2</th>\n",
       "      <th>distrito</th>\n",
       "    </tr>\n",
       "  </thead>\n",
       "  <tbody>\n",
       "    <tr>\n",
       "      <th>0</th>\n",
       "      <td>0</td>\n",
       "      <td>48154</td>\n",
       "      <td>Rental unit in Valencia · ★4.56 · 2 bedrooms ·...</td>\n",
       "      <td>219476</td>\n",
       "      <td>LA SAIDIA</td>\n",
       "      <td>MORVEDRE</td>\n",
       "      <td>39.48375</td>\n",
       "      <td>-0.37502</td>\n",
       "      <td>Entire home/apt</td>\n",
       "      <td>89</td>\n",
       "      <td>4</td>\n",
       "      <td>4</td>\n",
       "      <td>52</td>\n",
       "      <td>Segundo piso en una finca de finales del siglo...</td>\n",
       "      <td>f</td>\n",
       "      <td>4</td>\n",
       "      <td>2.0</td>\n",
       "      <td>2.0</td>\n",
       "      <td>137</td>\n",
       "      <td>4.56</td>\n",
       "      <td>4.74</td>\n",
       "      <td>4.43</td>\n",
       "      <td>1951</td>\n",
       "      <td>LA SAIDIA</td>\n",
       "    </tr>\n",
       "    <tr>\n",
       "      <th>1</th>\n",
       "      <td>1</td>\n",
       "      <td>55692</td>\n",
       "      <td>Rental unit in Valencia · 1 bedroom · 1 bed</td>\n",
       "      <td>120649</td>\n",
       "      <td>CIUTAT VELLA</td>\n",
       "      <td>LA SEU</td>\n",
       "      <td>39.47658</td>\n",
       "      <td>-0.37654</td>\n",
       "      <td>Entire home/apt</td>\n",
       "      <td>100</td>\n",
       "      <td>1</td>\n",
       "      <td>1</td>\n",
       "      <td>0</td>\n",
       "      <td>A great place to stay and visit Valencia.&lt;br /...</td>\n",
       "      <td>f</td>\n",
       "      <td>3</td>\n",
       "      <td>1.0</td>\n",
       "      <td>1.0</td>\n",
       "      <td>1</td>\n",
       "      <td>5.00</td>\n",
       "      <td>5.00</td>\n",
       "      <td>5.00</td>\n",
       "      <td>3255</td>\n",
       "      <td>CIUTAT VELLA</td>\n",
       "    </tr>\n",
       "    <tr>\n",
       "      <th>2</th>\n",
       "      <td>2</td>\n",
       "      <td>100347</td>\n",
       "      <td>Rental unit in València · ★4.58 · 3 bedrooms ·...</td>\n",
       "      <td>1451371</td>\n",
       "      <td>EXTRAMURS</td>\n",
       "      <td>ARRANCAPINS</td>\n",
       "      <td>39.45965</td>\n",
       "      <td>-0.38453</td>\n",
       "      <td>Entire home/apt</td>\n",
       "      <td>171</td>\n",
       "      <td>3</td>\n",
       "      <td>1</td>\n",
       "      <td>0</td>\n",
       "      <td>Te va a encantar mi espacio por la ubicación y...</td>\n",
       "      <td>f</td>\n",
       "      <td>6</td>\n",
       "      <td>3.0</td>\n",
       "      <td>3.0</td>\n",
       "      <td>142</td>\n",
       "      <td>4.58</td>\n",
       "      <td>4.88</td>\n",
       "      <td>4.79</td>\n",
       "      <td>2670</td>\n",
       "      <td>EXTRAMURS</td>\n",
       "    </tr>\n",
       "    <tr>\n",
       "      <th>3</th>\n",
       "      <td>3</td>\n",
       "      <td>102524</td>\n",
       "      <td>Villa in Valencia · ★4.56 · 5 bedrooms · 20 be...</td>\n",
       "      <td>535881</td>\n",
       "      <td>POBLATS MARITIMS</td>\n",
       "      <td>LA MALVA-ROSA</td>\n",
       "      <td>39.48197</td>\n",
       "      <td>-0.32456</td>\n",
       "      <td>Entire home/apt</td>\n",
       "      <td>532</td>\n",
       "      <td>2</td>\n",
       "      <td>7</td>\n",
       "      <td>87</td>\n",
       "      <td>JUST FOR RELAXED GROUPS. , just families. &lt;br ...</td>\n",
       "      <td>f</td>\n",
       "      <td>16</td>\n",
       "      <td>5.0</td>\n",
       "      <td>20.0</td>\n",
       "      <td>197</td>\n",
       "      <td>4.56</td>\n",
       "      <td>4.69</td>\n",
       "      <td>4.81</td>\n",
       "      <td>2168</td>\n",
       "      <td>POBLATS MARITIMS</td>\n",
       "    </tr>\n",
       "    <tr>\n",
       "      <th>4</th>\n",
       "      <td>4</td>\n",
       "      <td>136378</td>\n",
       "      <td>Condo in Valencia · ★4.46 · 1 bedroom · 2 beds...</td>\n",
       "      <td>591197</td>\n",
       "      <td>CIUTAT VELLA</td>\n",
       "      <td>EL MERCAT</td>\n",
       "      <td>39.47358</td>\n",
       "      <td>-0.37815</td>\n",
       "      <td>Entire home/apt</td>\n",
       "      <td>75</td>\n",
       "      <td>28</td>\n",
       "      <td>3</td>\n",
       "      <td>6</td>\n",
       "      <td>&lt;b&gt;The space&lt;/b&gt;&lt;br /&gt;The apartment at Calle R...</td>\n",
       "      <td>f</td>\n",
       "      <td>3</td>\n",
       "      <td>1.0</td>\n",
       "      <td>2.0</td>\n",
       "      <td>25</td>\n",
       "      <td>4.46</td>\n",
       "      <td>4.80</td>\n",
       "      <td>4.84</td>\n",
       "      <td>3255</td>\n",
       "      <td>CIUTAT VELLA</td>\n",
       "    </tr>\n",
       "  </tbody>\n",
       "</table>\n",
       "</div>"
      ],
      "text/plain": [
       "   index      id                                               name  host_id  \\\n",
       "0      0   48154  Rental unit in Valencia · ★4.56 · 2 bedrooms ·...   219476   \n",
       "1      1   55692        Rental unit in Valencia · 1 bedroom · 1 bed   120649   \n",
       "2      2  100347  Rental unit in València · ★4.58 · 3 bedrooms ·...  1451371   \n",
       "3      3  102524  Villa in Valencia · ★4.56 · 5 bedrooms · 20 be...   535881   \n",
       "4      4  136378  Condo in Valencia · ★4.46 · 1 bedroom · 2 beds...   591197   \n",
       "\n",
       "  neighbourhood_group  neighbourhood  latitude  longitude        room_type  \\\n",
       "0           LA SAIDIA       MORVEDRE  39.48375   -0.37502  Entire home/apt   \n",
       "1        CIUTAT VELLA         LA SEU  39.47658   -0.37654  Entire home/apt   \n",
       "2           EXTRAMURS    ARRANCAPINS  39.45965   -0.38453  Entire home/apt   \n",
       "3    POBLATS MARITIMS  LA MALVA-ROSA  39.48197   -0.32456  Entire home/apt   \n",
       "4        CIUTAT VELLA      EL MERCAT  39.47358   -0.37815  Entire home/apt   \n",
       "\n",
       "   price  minimum_nights  calculated_host_listings_count  availability_365  \\\n",
       "0     89               4                               4                52   \n",
       "1    100               1                               1                 0   \n",
       "2    171               3                               1                 0   \n",
       "3    532               2                               7                87   \n",
       "4     75              28                               3                 6   \n",
       "\n",
       "                                         description host_is_superhost  \\\n",
       "0  Segundo piso en una finca de finales del siglo...                 f   \n",
       "1  A great place to stay and visit Valencia.<br /...                 f   \n",
       "2  Te va a encantar mi espacio por la ubicación y...                 f   \n",
       "3  JUST FOR RELAXED GROUPS. , just families. <br ...                 f   \n",
       "4  <b>The space</b><br />The apartment at Calle R...                 f   \n",
       "\n",
       "   accommodates  bedrooms  beds  number_of_reviews  review_scores_rating  \\\n",
       "0             4       2.0   2.0                137                  4.56   \n",
       "1             3       1.0   1.0                  1                  5.00   \n",
       "2             6       3.0   3.0                142                  4.58   \n",
       "3            16       5.0  20.0                197                  4.56   \n",
       "4             3       1.0   2.0                 25                  4.46   \n",
       "\n",
       "   review_scores_communication  review_scores_location  precio_m2  \\\n",
       "0                         4.74                    4.43       1951   \n",
       "1                         5.00                    5.00       3255   \n",
       "2                         4.88                    4.79       2670   \n",
       "3                         4.69                    4.81       2168   \n",
       "4                         4.80                    4.84       3255   \n",
       "\n",
       "           distrito  \n",
       "0         LA SAIDIA  \n",
       "1      CIUTAT VELLA  \n",
       "2         EXTRAMURS  \n",
       "3  POBLATS MARITIMS  \n",
       "4      CIUTAT VELLA  "
      ]
     },
     "execution_count": 26,
     "metadata": {},
     "output_type": "execute_result"
    }
   ],
   "source": [
    "con = sa.create_engine('sqlite:///../Datos/airbnb.db')\n",
    "\n",
    "df = pd.read_sql('df', con = con)\n",
    "\n",
    "df.head()"
   ]
  },
  {
   "cell_type": "markdown",
   "id": "5709cc4c",
   "metadata": {},
   "source": [
    "## PREPARACION DE VARIABLES"
   ]
  },
  {
   "cell_type": "markdown",
   "id": "c527fb75",
   "metadata": {},
   "source": [
    "### Creacion de kpis de palancas"
   ]
  },
  {
   "cell_type": "markdown",
   "id": "9693f0c6",
   "metadata": {},
   "source": [
    "Primero vamos a crear las variables de análisis, es decir las que habíamos identificado como los Kpis que usaremos en las palancas que influyen sobre el negocio.\n",
    "\n",
    "Habíamos dicho que eran 3:\n",
    "\n",
    "* precio por noche: esta ya la tenemos directamente en la variable price, pero vamos a revisarla para ver que la entendemos bien\n",
    "* ocupación: tenemos availability_365 pero hay que transformarla\n",
    "* precio del inmueble: esta tendremos que crearla con variables externas así que la dejamos para después"
   ]
  },
  {
   "cell_type": "markdown",
   "id": "31e1e6a6",
   "metadata": {},
   "source": [
    "**Empezamos con el precio.**\n",
    "\n",
    "La documentación no aclara si el precio es por todo el inmueble, o si en el caso de que se alquile una habitación es por habitación.\n",
    "\n",
    "Es un dato clave para poder hacer la valoración de los potenciales ingresos de un inmueble.\n",
    "\n",
    "Vamos a intentar entenderlo analizando el precio medio por tipo de alquiler.\n",
    "\n",
    "Es importante filtrar por solo un distrito para no incluir el efecto \"zona\".\n",
    "\n",
    "Así que primero elegimos un distrito que tenga muchos datos."
   ]
  },
  {
   "cell_type": "code",
   "execution_count": 27,
   "id": "c06f1ff9",
   "metadata": {},
   "outputs": [
    {
     "data": {
      "text/plain": [
       "distrito\n",
       "POBLATS MARITIMS     1577\n",
       "CIUTAT VELLA         1546\n",
       "L'EIXAMPLE            752\n",
       "CAMINS AL GRAU        734\n",
       "EXTRAMURS             667\n",
       "QUATRE CARRERES       662\n",
       "LA SAIDIA             367\n",
       "ALGIROS               338\n",
       "JESUS                 253\n",
       "L'OLIVERETA           250\n",
       "RASCANYA              192\n",
       "POBLATS DEL SUD       174\n",
       "EL PLA DEL REAL       173\n",
       "BENICALAP             168\n",
       "PATRAIX               168\n",
       "BENIMACLET            140\n",
       "CAMPANAR              114\n",
       "POBLATS DE L'OEST      40\n",
       "POBLATS DEL NORD        9\n",
       "Name: count, dtype: int64"
      ]
     },
     "execution_count": 27,
     "metadata": {},
     "output_type": "execute_result"
    }
   ],
   "source": [
    "df.distrito.value_counts()"
   ]
  },
  {
   "cell_type": "code",
   "execution_count": 28,
   "id": "72809610",
   "metadata": {
    "scrolled": true
   },
   "outputs": [
    {
     "data": {
      "text/plain": [
       "room_type\n",
       "Entire home/apt    136.132293\n",
       "Private room        80.343575\n",
       "Shared room         71.500000\n",
       "Name: price, dtype: float64"
      ]
     },
     "execution_count": 28,
     "metadata": {},
     "output_type": "execute_result"
    }
   ],
   "source": [
    "df.loc[df.distrito == 'POBLATS MARITIMS',:].groupby('room_type').price.mean()"
   ]
  },
  {
   "cell_type": "markdown",
   "id": "fec3338f",
   "metadata": {},
   "source": [
    "Conclusión:\n",
    "    \n",
    "* alquilar el apartamento tiene un precio medio de 136€\n",
    "* alquilar una habitación tiene un precio medio de 71€ o 80€ según sea compartida o privada\n",
    "* por tanto para calcular los \"ingresos\" de un inmueble sí deberemos multiplicar el precio el precio por el número de habitaciones cuando sea de los tipos Private room o Shared room"
   ]
  },
  {
   "cell_type": "markdown",
   "id": "9b50572e",
   "metadata": {},
   "source": [
    "Ahora bien, multiplicar el precio por el total de habitaciones puede sesgar artificialmente al alza la capacidad de generar ingresos de un inmueble.\n",
    "\n",
    "Ya que si se alquila por habitaciones no es probable que siempre esté al 100%\n",
    "\n",
    "Por tanto deberíamos ponderarlo por el porcentaje medio de habitaciones alquiladas. Al no tener ese dato, suponemos hablar con el responsable de negocio y nos dice que es del 70%\n",
    "\n",
    "\n",
    "\n",
    "Podemos crear la variable precio total aplicando apply sobre una función personalizada."
   ]
  },
  {
   "cell_type": "code",
   "execution_count": 29,
   "id": "1393556d",
   "metadata": {},
   "outputs": [],
   "source": [
    "def crear_precio_total(registro):\n",
    "    if (registro.bedrooms > 1) & ((registro.room_type == 'Private room') | (registro.room_type == 'Shared room')):\n",
    "        salida = registro.price * registro.bedrooms * 0.7\n",
    "    else:\n",
    "        salida = registro.price\n",
    "    return(salida)\n",
    "\n",
    "df['precio_total'] = df.apply(crear_precio_total, axis = 1)"
   ]
  },
  {
   "cell_type": "markdown",
   "id": "1e17bbec",
   "metadata": {},
   "source": [
    "Comprobamos"
   ]
  },
  {
   "cell_type": "code",
   "execution_count": 30,
   "id": "0dd85e9d",
   "metadata": {},
   "outputs": [
    {
     "data": {
      "text/html": [
       "<div>\n",
       "<style scoped>\n",
       "    .dataframe tbody tr th:only-of-type {\n",
       "        vertical-align: middle;\n",
       "    }\n",
       "\n",
       "    .dataframe tbody tr th {\n",
       "        vertical-align: top;\n",
       "    }\n",
       "\n",
       "    .dataframe thead th {\n",
       "        text-align: right;\n",
       "    }\n",
       "</style>\n",
       "<table border=\"1\" class=\"dataframe\">\n",
       "  <thead>\n",
       "    <tr style=\"text-align: right;\">\n",
       "      <th></th>\n",
       "      <th>index</th>\n",
       "      <th>id</th>\n",
       "      <th>name</th>\n",
       "      <th>host_id</th>\n",
       "      <th>neighbourhood_group</th>\n",
       "      <th>neighbourhood</th>\n",
       "      <th>latitude</th>\n",
       "      <th>longitude</th>\n",
       "      <th>room_type</th>\n",
       "      <th>price</th>\n",
       "      <th>minimum_nights</th>\n",
       "      <th>calculated_host_listings_count</th>\n",
       "      <th>availability_365</th>\n",
       "      <th>description</th>\n",
       "      <th>host_is_superhost</th>\n",
       "      <th>accommodates</th>\n",
       "      <th>bedrooms</th>\n",
       "      <th>beds</th>\n",
       "      <th>number_of_reviews</th>\n",
       "      <th>review_scores_rating</th>\n",
       "      <th>review_scores_communication</th>\n",
       "      <th>review_scores_location</th>\n",
       "      <th>precio_m2</th>\n",
       "      <th>distrito</th>\n",
       "      <th>precio_total</th>\n",
       "    </tr>\n",
       "  </thead>\n",
       "  <tbody>\n",
       "    <tr>\n",
       "      <th>1547</th>\n",
       "      <td>1547</td>\n",
       "      <td>23680784</td>\n",
       "      <td>Rental unit in València · ★4.90 · 2 bedrooms ·...</td>\n",
       "      <td>104520761</td>\n",
       "      <td>L'EIXAMPLE</td>\n",
       "      <td>RUSSAFA</td>\n",
       "      <td>39.46151</td>\n",
       "      <td>-0.37067</td>\n",
       "      <td>Entire home/apt</td>\n",
       "      <td>6286</td>\n",
       "      <td>2</td>\n",
       "      <td>6</td>\n",
       "      <td>42</td>\n",
       "      <td>At your home in Valencia, Russfa, you can enjo...</td>\n",
       "      <td>f</td>\n",
       "      <td>5</td>\n",
       "      <td>2.0</td>\n",
       "      <td>2.0</td>\n",
       "      <td>20</td>\n",
       "      <td>4.9</td>\n",
       "      <td>5.0</td>\n",
       "      <td>4.95</td>\n",
       "      <td>3513</td>\n",
       "      <td>L'EIXAMPLE</td>\n",
       "      <td>6286.0</td>\n",
       "    </tr>\n",
       "  </tbody>\n",
       "</table>\n",
       "</div>"
      ],
      "text/plain": [
       "      index        id                                               name  \\\n",
       "1547   1547  23680784  Rental unit in València · ★4.90 · 2 bedrooms ·...   \n",
       "\n",
       "        host_id neighbourhood_group neighbourhood  latitude  longitude  \\\n",
       "1547  104520761          L'EIXAMPLE       RUSSAFA  39.46151   -0.37067   \n",
       "\n",
       "            room_type  price  minimum_nights  calculated_host_listings_count  \\\n",
       "1547  Entire home/apt   6286               2                               6   \n",
       "\n",
       "      availability_365                                        description  \\\n",
       "1547                42  At your home in Valencia, Russfa, you can enjo...   \n",
       "\n",
       "     host_is_superhost  accommodates  bedrooms  beds  number_of_reviews  \\\n",
       "1547                 f             5       2.0   2.0                 20   \n",
       "\n",
       "      review_scores_rating  review_scores_communication  \\\n",
       "1547                   4.9                          5.0   \n",
       "\n",
       "      review_scores_location  precio_m2    distrito  precio_total  \n",
       "1547                    4.95       3513  L'EIXAMPLE        6286.0  "
      ]
     },
     "execution_count": 30,
     "metadata": {},
     "output_type": "execute_result"
    }
   ],
   "source": [
    "df.loc[df['precio_total'] == 6286.0]"
   ]
  },
  {
   "cell_type": "code",
   "execution_count": 2,
   "id": "b81eebc7",
   "metadata": {
    "scrolled": false
   },
   "outputs": [
    {
     "ename": "NameError",
     "evalue": "name 'df' is not defined",
     "output_type": "error",
     "traceback": [
      "\u001b[1;31m---------------------------------------------------------------------------\u001b[0m",
      "\u001b[1;31mNameError\u001b[0m                                 Traceback (most recent call last)",
      "Cell \u001b[1;32mIn[2], line 1\u001b[0m\n\u001b[1;32m----> 1\u001b[0m df[[\u001b[38;5;124m'\u001b[39m\u001b[38;5;124mid\u001b[39m\u001b[38;5;124m'\u001b[39m,\u001b[38;5;124m'\u001b[39m\u001b[38;5;124mroom_type\u001b[39m\u001b[38;5;124m'\u001b[39m,\u001b[38;5;124m'\u001b[39m\u001b[38;5;124mprice\u001b[39m\u001b[38;5;124m'\u001b[39m,\u001b[38;5;124m'\u001b[39m\u001b[38;5;124mbedrooms\u001b[39m\u001b[38;5;124m'\u001b[39m,\u001b[38;5;124m'\u001b[39m\u001b[38;5;124mprecio_total\u001b[39m\u001b[38;5;124m'\u001b[39m]]\u001b[38;5;241m.\u001b[39mhead(\u001b[38;5;241m30\u001b[39m)\n",
      "\u001b[1;31mNameError\u001b[0m: name 'df' is not defined"
     ]
    }
   ],
   "source": [
    "df[['room_type','price','bedrooms','precio_total']].head(30)"
   ]
  },
  {
   "cell_type": "code",
   "execution_count": 1,
   "id": "119a3b7d",
   "metadata": {},
   "outputs": [
    {
     "ename": "NameError",
     "evalue": "name 'df' is not defined",
     "output_type": "error",
     "traceback": [
      "\u001b[1;31m---------------------------------------------------------------------------\u001b[0m",
      "\u001b[1;31mNameError\u001b[0m                                 Traceback (most recent call last)",
      "Cell \u001b[1;32mIn[1], line 1\u001b[0m\n\u001b[1;32m----> 1\u001b[0m df\u001b[38;5;241m.\u001b[39mprecio_total\n",
      "\u001b[1;31mNameError\u001b[0m: name 'df' is not defined"
     ]
    }
   ],
   "source": [
    "df.precio_total"
   ]
  },
  {
   "cell_type": "markdown",
   "id": "4f00b0b1",
   "metadata": {},
   "source": [
    "**Ahora vamos con la ocupación**\n",
    "\n",
    "La variable que tenemos que nos permite medir esto es availability_365.\n",
    "\n",
    "Esta variable nos dice el número de días a un año vista que el inmueble NO está ocupado.\n",
    "\n",
    "Por tanto nos interesaría transformarla a una medida más directa de ocupación, por ejemplo el % del año que SI está ocupada.\n",
    "\n",
    "Podemos hacerlo con una tranformación directa."
   ]
  },
  {
   "cell_type": "code",
   "execution_count": 32,
   "id": "fcca21ea",
   "metadata": {
    "scrolled": true
   },
   "outputs": [
    {
     "data": {
      "text/html": [
       "<div>\n",
       "<style scoped>\n",
       "    .dataframe tbody tr th:only-of-type {\n",
       "        vertical-align: middle;\n",
       "    }\n",
       "\n",
       "    .dataframe tbody tr th {\n",
       "        vertical-align: top;\n",
       "    }\n",
       "\n",
       "    .dataframe thead th {\n",
       "        text-align: right;\n",
       "    }\n",
       "</style>\n",
       "<table border=\"1\" class=\"dataframe\">\n",
       "  <thead>\n",
       "    <tr style=\"text-align: right;\">\n",
       "      <th></th>\n",
       "      <th>index</th>\n",
       "      <th>id</th>\n",
       "      <th>name</th>\n",
       "      <th>host_id</th>\n",
       "      <th>neighbourhood_group</th>\n",
       "      <th>neighbourhood</th>\n",
       "      <th>latitude</th>\n",
       "      <th>longitude</th>\n",
       "      <th>room_type</th>\n",
       "      <th>price</th>\n",
       "      <th>minimum_nights</th>\n",
       "      <th>calculated_host_listings_count</th>\n",
       "      <th>availability_365</th>\n",
       "      <th>description</th>\n",
       "      <th>host_is_superhost</th>\n",
       "      <th>accommodates</th>\n",
       "      <th>bedrooms</th>\n",
       "      <th>beds</th>\n",
       "      <th>number_of_reviews</th>\n",
       "      <th>review_scores_rating</th>\n",
       "      <th>review_scores_communication</th>\n",
       "      <th>review_scores_location</th>\n",
       "      <th>precio_m2</th>\n",
       "      <th>distrito</th>\n",
       "      <th>precio_total</th>\n",
       "      <th>ocupacion</th>\n",
       "    </tr>\n",
       "  </thead>\n",
       "  <tbody>\n",
       "    <tr>\n",
       "      <th>0</th>\n",
       "      <td>0</td>\n",
       "      <td>48154</td>\n",
       "      <td>Rental unit in Valencia · ★4.56 · 2 bedrooms ·...</td>\n",
       "      <td>219476</td>\n",
       "      <td>LA SAIDIA</td>\n",
       "      <td>MORVEDRE</td>\n",
       "      <td>39.48375</td>\n",
       "      <td>-0.37502</td>\n",
       "      <td>Entire home/apt</td>\n",
       "      <td>89</td>\n",
       "      <td>4</td>\n",
       "      <td>4</td>\n",
       "      <td>52</td>\n",
       "      <td>Segundo piso en una finca de finales del siglo...</td>\n",
       "      <td>f</td>\n",
       "      <td>4</td>\n",
       "      <td>2.0</td>\n",
       "      <td>2.0</td>\n",
       "      <td>137</td>\n",
       "      <td>4.56</td>\n",
       "      <td>4.74</td>\n",
       "      <td>4.43</td>\n",
       "      <td>1951</td>\n",
       "      <td>LA SAIDIA</td>\n",
       "      <td>89.0</td>\n",
       "      <td>85</td>\n",
       "    </tr>\n",
       "    <tr>\n",
       "      <th>1</th>\n",
       "      <td>1</td>\n",
       "      <td>55692</td>\n",
       "      <td>Rental unit in Valencia · 1 bedroom · 1 bed</td>\n",
       "      <td>120649</td>\n",
       "      <td>CIUTAT VELLA</td>\n",
       "      <td>LA SEU</td>\n",
       "      <td>39.47658</td>\n",
       "      <td>-0.37654</td>\n",
       "      <td>Entire home/apt</td>\n",
       "      <td>100</td>\n",
       "      <td>1</td>\n",
       "      <td>1</td>\n",
       "      <td>0</td>\n",
       "      <td>A great place to stay and visit Valencia.&lt;br /...</td>\n",
       "      <td>f</td>\n",
       "      <td>3</td>\n",
       "      <td>1.0</td>\n",
       "      <td>1.0</td>\n",
       "      <td>1</td>\n",
       "      <td>5.00</td>\n",
       "      <td>5.00</td>\n",
       "      <td>5.00</td>\n",
       "      <td>3255</td>\n",
       "      <td>CIUTAT VELLA</td>\n",
       "      <td>100.0</td>\n",
       "      <td>100</td>\n",
       "    </tr>\n",
       "    <tr>\n",
       "      <th>2</th>\n",
       "      <td>2</td>\n",
       "      <td>100347</td>\n",
       "      <td>Rental unit in València · ★4.58 · 3 bedrooms ·...</td>\n",
       "      <td>1451371</td>\n",
       "      <td>EXTRAMURS</td>\n",
       "      <td>ARRANCAPINS</td>\n",
       "      <td>39.45965</td>\n",
       "      <td>-0.38453</td>\n",
       "      <td>Entire home/apt</td>\n",
       "      <td>171</td>\n",
       "      <td>3</td>\n",
       "      <td>1</td>\n",
       "      <td>0</td>\n",
       "      <td>Te va a encantar mi espacio por la ubicación y...</td>\n",
       "      <td>f</td>\n",
       "      <td>6</td>\n",
       "      <td>3.0</td>\n",
       "      <td>3.0</td>\n",
       "      <td>142</td>\n",
       "      <td>4.58</td>\n",
       "      <td>4.88</td>\n",
       "      <td>4.79</td>\n",
       "      <td>2670</td>\n",
       "      <td>EXTRAMURS</td>\n",
       "      <td>171.0</td>\n",
       "      <td>100</td>\n",
       "    </tr>\n",
       "    <tr>\n",
       "      <th>3</th>\n",
       "      <td>3</td>\n",
       "      <td>102524</td>\n",
       "      <td>Villa in Valencia · ★4.56 · 5 bedrooms · 20 be...</td>\n",
       "      <td>535881</td>\n",
       "      <td>POBLATS MARITIMS</td>\n",
       "      <td>LA MALVA-ROSA</td>\n",
       "      <td>39.48197</td>\n",
       "      <td>-0.32456</td>\n",
       "      <td>Entire home/apt</td>\n",
       "      <td>532</td>\n",
       "      <td>2</td>\n",
       "      <td>7</td>\n",
       "      <td>87</td>\n",
       "      <td>JUST FOR RELAXED GROUPS. , just families. &lt;br ...</td>\n",
       "      <td>f</td>\n",
       "      <td>16</td>\n",
       "      <td>5.0</td>\n",
       "      <td>20.0</td>\n",
       "      <td>197</td>\n",
       "      <td>4.56</td>\n",
       "      <td>4.69</td>\n",
       "      <td>4.81</td>\n",
       "      <td>2168</td>\n",
       "      <td>POBLATS MARITIMS</td>\n",
       "      <td>532.0</td>\n",
       "      <td>76</td>\n",
       "    </tr>\n",
       "    <tr>\n",
       "      <th>4</th>\n",
       "      <td>4</td>\n",
       "      <td>136378</td>\n",
       "      <td>Condo in Valencia · ★4.46 · 1 bedroom · 2 beds...</td>\n",
       "      <td>591197</td>\n",
       "      <td>CIUTAT VELLA</td>\n",
       "      <td>EL MERCAT</td>\n",
       "      <td>39.47358</td>\n",
       "      <td>-0.37815</td>\n",
       "      <td>Entire home/apt</td>\n",
       "      <td>75</td>\n",
       "      <td>28</td>\n",
       "      <td>3</td>\n",
       "      <td>6</td>\n",
       "      <td>&lt;b&gt;The space&lt;/b&gt;&lt;br /&gt;The apartment at Calle R...</td>\n",
       "      <td>f</td>\n",
       "      <td>3</td>\n",
       "      <td>1.0</td>\n",
       "      <td>2.0</td>\n",
       "      <td>25</td>\n",
       "      <td>4.46</td>\n",
       "      <td>4.80</td>\n",
       "      <td>4.84</td>\n",
       "      <td>3255</td>\n",
       "      <td>CIUTAT VELLA</td>\n",
       "      <td>75.0</td>\n",
       "      <td>98</td>\n",
       "    </tr>\n",
       "  </tbody>\n",
       "</table>\n",
       "</div>"
      ],
      "text/plain": [
       "   index      id                                               name  host_id  \\\n",
       "0      0   48154  Rental unit in Valencia · ★4.56 · 2 bedrooms ·...   219476   \n",
       "1      1   55692        Rental unit in Valencia · 1 bedroom · 1 bed   120649   \n",
       "2      2  100347  Rental unit in València · ★4.58 · 3 bedrooms ·...  1451371   \n",
       "3      3  102524  Villa in Valencia · ★4.56 · 5 bedrooms · 20 be...   535881   \n",
       "4      4  136378  Condo in Valencia · ★4.46 · 1 bedroom · 2 beds...   591197   \n",
       "\n",
       "  neighbourhood_group  neighbourhood  latitude  longitude        room_type  \\\n",
       "0           LA SAIDIA       MORVEDRE  39.48375   -0.37502  Entire home/apt   \n",
       "1        CIUTAT VELLA         LA SEU  39.47658   -0.37654  Entire home/apt   \n",
       "2           EXTRAMURS    ARRANCAPINS  39.45965   -0.38453  Entire home/apt   \n",
       "3    POBLATS MARITIMS  LA MALVA-ROSA  39.48197   -0.32456  Entire home/apt   \n",
       "4        CIUTAT VELLA      EL MERCAT  39.47358   -0.37815  Entire home/apt   \n",
       "\n",
       "   price  minimum_nights  calculated_host_listings_count  availability_365  \\\n",
       "0     89               4                               4                52   \n",
       "1    100               1                               1                 0   \n",
       "2    171               3                               1                 0   \n",
       "3    532               2                               7                87   \n",
       "4     75              28                               3                 6   \n",
       "\n",
       "                                         description host_is_superhost  \\\n",
       "0  Segundo piso en una finca de finales del siglo...                 f   \n",
       "1  A great place to stay and visit Valencia.<br /...                 f   \n",
       "2  Te va a encantar mi espacio por la ubicación y...                 f   \n",
       "3  JUST FOR RELAXED GROUPS. , just families. <br ...                 f   \n",
       "4  <b>The space</b><br />The apartment at Calle R...                 f   \n",
       "\n",
       "   accommodates  bedrooms  beds  number_of_reviews  review_scores_rating  \\\n",
       "0             4       2.0   2.0                137                  4.56   \n",
       "1             3       1.0   1.0                  1                  5.00   \n",
       "2             6       3.0   3.0                142                  4.58   \n",
       "3            16       5.0  20.0                197                  4.56   \n",
       "4             3       1.0   2.0                 25                  4.46   \n",
       "\n",
       "   review_scores_communication  review_scores_location  precio_m2  \\\n",
       "0                         4.74                    4.43       1951   \n",
       "1                         5.00                    5.00       3255   \n",
       "2                         4.88                    4.79       2670   \n",
       "3                         4.69                    4.81       2168   \n",
       "4                         4.80                    4.84       3255   \n",
       "\n",
       "           distrito  precio_total  ocupacion  \n",
       "0         LA SAIDIA          89.0         85  \n",
       "1      CIUTAT VELLA         100.0        100  \n",
       "2         EXTRAMURS         171.0        100  \n",
       "3  POBLATS MARITIMS         532.0         76  \n",
       "4      CIUTAT VELLA          75.0         98  "
      ]
     },
     "execution_count": 32,
     "metadata": {},
     "output_type": "execute_result"
    }
   ],
   "source": [
    "df['ocupacion'] = ((365 - df.availability_365) / 365 * 100).astype('int')\n",
    "df.head()"
   ]
  },
  {
   "cell_type": "markdown",
   "id": "2292151d",
   "metadata": {},
   "source": [
    "### Transformación de variables de análisis"
   ]
  },
  {
   "cell_type": "markdown",
   "id": "23e139a4",
   "metadata": {},
   "source": [
    "Algunas de las preguntas semilla están dirigidas a comprobar cómo se comporta el precio o la ocupación según otras variables como el número de habitaciones, la media de valoraciones, etc.\n",
    "\n",
    "Discretizamos las variable de análisis: accommodates, bedrooms, beds y number_of_reviews\n",
    "\n",
    "En bedrooms tiene sentido una discretización más personalizada. En las otras podemos hacerla automática."
   ]
  },
  {
   "cell_type": "markdown",
   "id": "b064146e",
   "metadata": {},
   "source": [
    "**Discretizar bedrooms**\n",
    "\n",
    "Comenzamos por evaluar la distribución de los datos."
   ]
  },
  {
   "cell_type": "code",
   "execution_count": 33,
   "id": "513a1b16",
   "metadata": {},
   "outputs": [
    {
     "data": {
      "image/png": "[encoded data removed]",
      "text/plain": [
       "<Figure size 640x480 with 1 Axes>"
      ]
     },
     "metadata": {},
     "output_type": "display_data"
    }
   ],
   "source": [
    "df.bedrooms.value_counts().plot.bar();"
   ]
  },
  {
   "cell_type": "markdown",
   "id": "d40be29a",
   "metadata": {},
   "source": [
    "Vamos a discretizar para 1,2,3 y más de 3.\n",
    "\n",
    "Podemos usar np.select"
   ]
  },
  {
   "cell_type": "code",
   "execution_count": 34,
   "id": "f605a2c8",
   "metadata": {},
   "outputs": [],
   "source": [
    "condiciones = [df.bedrooms == 1,\n",
    "               df.bedrooms == 2,\n",
    "               df.bedrooms == 3,\n",
    "               df.bedrooms > 3]\n",
    "\n",
    "resultados = ['01_Una','02_Dos','03_Tres','04_Cuatro o mas']\n",
    "\n",
    "df['bedrooms_disc'] = np.select(condiciones, resultados, default = -999)"
   ]
  },
  {
   "cell_type": "markdown",
   "id": "eea7a91f",
   "metadata": {},
   "source": [
    "Comprobamos"
   ]
  },
  {
   "cell_type": "code",
   "execution_count": 35,
   "id": "f3ef5087",
   "metadata": {},
   "outputs": [
    {
     "data": {
      "text/plain": [
       "bedrooms_disc\n",
       "01_Una             4700\n",
       "02_Dos             1967\n",
       "03_Tres            1248\n",
       "04_Cuatro o mas     409\n",
       "Name: count, dtype: int64"
      ]
     },
     "execution_count": 35,
     "metadata": {},
     "output_type": "execute_result"
    }
   ],
   "source": [
    "df.bedrooms_disc.value_counts()"
   ]
  },
  {
   "cell_type": "code",
   "execution_count": 36,
   "id": "4976edb1",
   "metadata": {},
   "outputs": [
    {
     "data": {
      "image/png": "[encoded data removed]",
      "text/plain": [
       "<Figure size 640x480 with 1 Axes>"
      ]
     },
     "metadata": {},
     "output_type": "display_data"
    }
   ],
   "source": [
    "df.bedrooms_disc.value_counts().plot.bar();"
   ]
  },
  {
   "cell_type": "markdown",
   "id": "98415289",
   "metadata": {},
   "source": [
    "#### **Discretizar accommodates, beds y number_of_reviews**\n",
    "\n",
    "Vamos a usar qcut para discritizar con percentiles 0.45, 0.8, 1"
   ]
  },
  {
   "cell_type": "code",
   "execution_count": 37,
   "id": "b0dd02ce",
   "metadata": {},
   "outputs": [
    {
     "data": {
      "image/png": "[encoded data removed]",
      "text/plain": [
       "<Figure size 640x480 with 1 Axes>"
      ]
     },
     "metadata": {},
     "output_type": "display_data"
    }
   ],
   "source": [
    "pd.qcut(df.accommodates,[0, 0.45, 0.8, 1]).value_counts().plot.bar();"
   ]
  },
  {
   "cell_type": "code",
   "execution_count": 38,
   "id": "e9a93eab",
   "metadata": {
    "scrolled": false
   },
   "outputs": [
    {
     "data": {
      "image/png": "[encoded data removed]",
      "text/plain": [
       "<Figure size 640x480 with 1 Axes>"
      ]
     },
     "metadata": {},
     "output_type": "display_data"
    }
   ],
   "source": [
    "df['accommodates_disc'] = pd.qcut(df.accommodates,[0, 0.45, 0.8, 1],\n",
    "                                 labels = ['0-3','4-5','6-16'])\n",
    "\n",
    "df['accommodates_disc'].value_counts().sort_index(ascending = False).plot.barh();"
   ]
  },
  {
   "cell_type": "code",
   "execution_count": 39,
   "id": "5904a7d1",
   "metadata": {},
   "outputs": [
    {
     "data": {
      "image/png": "[encoded data removed]",
      "text/plain": [
       "<Figure size 640x480 with 1 Axes>"
      ]
     },
     "metadata": {},
     "output_type": "display_data"
    }
   ],
   "source": [
    "pd.qcut(df.beds,[0, 0.5, 0.85, 1]).value_counts().plot.bar();"
   ]
  },
  {
   "cell_type": "code",
   "execution_count": 40,
   "id": "3742d39e",
   "metadata": {
    "scrolled": true
   },
   "outputs": [
    {
     "data": {
      "image/png": "[encoded data removed]",
      "text/plain": [
       "<Figure size 640x480 with 1 Axes>"
      ]
     },
     "metadata": {},
     "output_type": "display_data"
    }
   ],
   "source": [
    "df['beds_disc'] = pd.qcut(df.beds,[0, 0.5, 0.85, 1],\n",
    "                         labels = ['1-2','3-4','5-68'])\n",
    "\n",
    "df['beds_disc'].value_counts().sort_index(ascending = False).plot.barh();"
   ]
  },
  {
   "cell_type": "code",
   "execution_count": 41,
   "id": "31220d0f",
   "metadata": {},
   "outputs": [
    {
     "data": {
      "image/png": "[encoded data removed]",
      "text/plain": [
       "<Figure size 640x480 with 1 Axes>"
      ]
     },
     "metadata": {},
     "output_type": "display_data"
    }
   ],
   "source": [
    "pd.qcut(df.number_of_reviews,[0, 0.5, 0.85, 1]).value_counts().plot.bar();"
   ]
  },
  {
   "cell_type": "code",
   "execution_count": 42,
   "id": "31610e2b",
   "metadata": {
    "scrolled": true
   },
   "outputs": [
    {
     "data": {
      "image/png": "[encoded data removed]",
      "text/plain": [
       "<Figure size 640x480 with 1 Axes>"
      ]
     },
     "metadata": {},
     "output_type": "display_data"
    }
   ],
   "source": [
    "df['number_of_reviews_disc'] = pd.qcut(df.number_of_reviews,[0, 0.5, 0.8, 1],\n",
    "                                      labels = ['1-13','14-90','91-807'])\n",
    "\n",
    "df['number_of_reviews_disc'].value_counts().sort_index(ascending = False).plot.barh();"
   ]
  },
  {
   "cell_type": "markdown",
   "id": "4f09044a",
   "metadata": {},
   "source": [
    "### Creación de variables con datos externos"
   ]
  },
  {
   "cell_type": "markdown",
   "id": "4f773e75",
   "metadata": {},
   "source": [
    "- Palanca del precio del inmueble, la podemos estimar multiplicando los metros cuadrados del inmueble por el precio por m2.\n",
    "\n",
    "- Al no disponer de los metros cuadrados del inmbueble, establecemos  criterios según número de habitaciones.\n",
    "\n",
    "- No es perfecto, pero nos servirá de aproximación."
   ]
  },
  {
   "cell_type": "markdown",
   "id": "adf059ce",
   "metadata": {},
   "source": [
    "**Estimación de los metros cuadrados del inmueble**\n",
    "\n",
    "Vamos usar el siguiente algoritmo:\n",
    "\n",
    "* una habitación: m2 = 50\n",
    "* dos habitaciones: m2 = 70\n",
    "* tres habitaciones: m2 = 90\n",
    "* cuatro habitaciones: m2 = 120\n",
    "* cinco o más habitaciones: m2 = 150"
   ]
  },
  {
   "cell_type": "code",
   "execution_count": 43,
   "id": "1f972353",
   "metadata": {},
   "outputs": [],
   "source": [
    "condiciones = [df.bedrooms == 1,\n",
    "               df.bedrooms == 2,\n",
    "               df.bedrooms == 3,\n",
    "               df.bedrooms == 4,\n",
    "               df.bedrooms > 4]\n",
    "\n",
    "resultados = [50,70,90,120,150]\n",
    "\n",
    "df['m2'] = np.select(condiciones, resultados, default = -999)"
   ]
  },
  {
   "cell_type": "markdown",
   "id": "2209cc4c",
   "metadata": {},
   "source": [
    "Comprobamos"
   ]
  },
  {
   "cell_type": "code",
   "execution_count": 44,
   "id": "ed8bf69c",
   "metadata": {},
   "outputs": [
    {
     "data": {
      "text/plain": [
       "m2\n",
       "50     4700\n",
       "70     1967\n",
       "90     1248\n",
       "120     314\n",
       "150      95\n",
       "Name: count, dtype: int64"
      ]
     },
     "execution_count": 44,
     "metadata": {},
     "output_type": "execute_result"
    }
   ],
   "source": [
    "df['m2'].value_counts()"
   ]
  },
  {
   "cell_type": "markdown",
   "id": "617d4301",
   "metadata": {},
   "source": [
    "Ahora ya podemos estimar el precio de compra del inmueble.\n",
    "\n",
    "Recordamos que al precio que nos sale le quitábamos un 30% por capacidad de negociación."
   ]
  },
  {
   "cell_type": "code",
   "execution_count": 45,
   "id": "53b97c07",
   "metadata": {},
   "outputs": [],
   "source": [
    "df['precio_compra'] = df.m2 * df.precio_m2 * 0.7"
   ]
  },
  {
   "cell_type": "markdown",
   "id": "d1ffeeef",
   "metadata": {},
   "source": [
    "Comprobamos"
   ]
  },
  {
   "cell_type": "code",
   "execution_count": 46,
   "id": "4661965c",
   "metadata": {},
   "outputs": [
    {
     "data": {
      "text/html": [
       "<div>\n",
       "<style scoped>\n",
       "    .dataframe tbody tr th:only-of-type {\n",
       "        vertical-align: middle;\n",
       "    }\n",
       "\n",
       "    .dataframe tbody tr th {\n",
       "        vertical-align: top;\n",
       "    }\n",
       "\n",
       "    .dataframe thead th {\n",
       "        text-align: right;\n",
       "    }\n",
       "</style>\n",
       "<table border=\"1\" class=\"dataframe\">\n",
       "  <thead>\n",
       "    <tr style=\"text-align: right;\">\n",
       "      <th></th>\n",
       "      <th>bedrooms</th>\n",
       "      <th>m2</th>\n",
       "      <th>distrito</th>\n",
       "      <th>precio_m2</th>\n",
       "      <th>precio_compra</th>\n",
       "    </tr>\n",
       "  </thead>\n",
       "  <tbody>\n",
       "    <tr>\n",
       "      <th>0</th>\n",
       "      <td>2.0</td>\n",
       "      <td>70</td>\n",
       "      <td>LA SAIDIA</td>\n",
       "      <td>1951</td>\n",
       "      <td>95599.0</td>\n",
       "    </tr>\n",
       "    <tr>\n",
       "      <th>1</th>\n",
       "      <td>1.0</td>\n",
       "      <td>50</td>\n",
       "      <td>CIUTAT VELLA</td>\n",
       "      <td>3255</td>\n",
       "      <td>113925.0</td>\n",
       "    </tr>\n",
       "    <tr>\n",
       "      <th>2</th>\n",
       "      <td>3.0</td>\n",
       "      <td>90</td>\n",
       "      <td>EXTRAMURS</td>\n",
       "      <td>2670</td>\n",
       "      <td>168210.0</td>\n",
       "    </tr>\n",
       "    <tr>\n",
       "      <th>3</th>\n",
       "      <td>5.0</td>\n",
       "      <td>150</td>\n",
       "      <td>POBLATS MARITIMS</td>\n",
       "      <td>2168</td>\n",
       "      <td>227640.0</td>\n",
       "    </tr>\n",
       "    <tr>\n",
       "      <th>4</th>\n",
       "      <td>1.0</td>\n",
       "      <td>50</td>\n",
       "      <td>CIUTAT VELLA</td>\n",
       "      <td>3255</td>\n",
       "      <td>113925.0</td>\n",
       "    </tr>\n",
       "    <tr>\n",
       "      <th>5</th>\n",
       "      <td>5.0</td>\n",
       "      <td>150</td>\n",
       "      <td>POBLATS MARITIMS</td>\n",
       "      <td>2168</td>\n",
       "      <td>227640.0</td>\n",
       "    </tr>\n",
       "    <tr>\n",
       "      <th>6</th>\n",
       "      <td>1.0</td>\n",
       "      <td>50</td>\n",
       "      <td>CIUTAT VELLA</td>\n",
       "      <td>3255</td>\n",
       "      <td>113925.0</td>\n",
       "    </tr>\n",
       "    <tr>\n",
       "      <th>7</th>\n",
       "      <td>1.0</td>\n",
       "      <td>50</td>\n",
       "      <td>QUATRE CARRERES</td>\n",
       "      <td>2077</td>\n",
       "      <td>72695.0</td>\n",
       "    </tr>\n",
       "    <tr>\n",
       "      <th>8</th>\n",
       "      <td>1.0</td>\n",
       "      <td>50</td>\n",
       "      <td>EXTRAMURS</td>\n",
       "      <td>2670</td>\n",
       "      <td>93450.0</td>\n",
       "    </tr>\n",
       "    <tr>\n",
       "      <th>9</th>\n",
       "      <td>1.0</td>\n",
       "      <td>50</td>\n",
       "      <td>CIUTAT VELLA</td>\n",
       "      <td>3255</td>\n",
       "      <td>113925.0</td>\n",
       "    </tr>\n",
       "    <tr>\n",
       "      <th>10</th>\n",
       "      <td>1.0</td>\n",
       "      <td>50</td>\n",
       "      <td>L'OLIVERETA</td>\n",
       "      <td>1650</td>\n",
       "      <td>57750.0</td>\n",
       "    </tr>\n",
       "    <tr>\n",
       "      <th>11</th>\n",
       "      <td>2.0</td>\n",
       "      <td>70</td>\n",
       "      <td>CAMINS AL GRAU</td>\n",
       "      <td>2232</td>\n",
       "      <td>109368.0</td>\n",
       "    </tr>\n",
       "    <tr>\n",
       "      <th>12</th>\n",
       "      <td>2.0</td>\n",
       "      <td>70</td>\n",
       "      <td>CIUTAT VELLA</td>\n",
       "      <td>3255</td>\n",
       "      <td>159495.0</td>\n",
       "    </tr>\n",
       "    <tr>\n",
       "      <th>13</th>\n",
       "      <td>1.0</td>\n",
       "      <td>50</td>\n",
       "      <td>CIUTAT VELLA</td>\n",
       "      <td>3255</td>\n",
       "      <td>113925.0</td>\n",
       "    </tr>\n",
       "    <tr>\n",
       "      <th>14</th>\n",
       "      <td>1.0</td>\n",
       "      <td>50</td>\n",
       "      <td>POBLATS MARITIMS</td>\n",
       "      <td>2168</td>\n",
       "      <td>75880.0</td>\n",
       "    </tr>\n",
       "    <tr>\n",
       "      <th>15</th>\n",
       "      <td>2.0</td>\n",
       "      <td>70</td>\n",
       "      <td>POBLATS MARITIMS</td>\n",
       "      <td>2168</td>\n",
       "      <td>106232.0</td>\n",
       "    </tr>\n",
       "    <tr>\n",
       "      <th>16</th>\n",
       "      <td>1.0</td>\n",
       "      <td>50</td>\n",
       "      <td>EXTRAMURS</td>\n",
       "      <td>2670</td>\n",
       "      <td>93450.0</td>\n",
       "    </tr>\n",
       "    <tr>\n",
       "      <th>17</th>\n",
       "      <td>1.0</td>\n",
       "      <td>50</td>\n",
       "      <td>QUATRE CARRERES</td>\n",
       "      <td>2077</td>\n",
       "      <td>72695.0</td>\n",
       "    </tr>\n",
       "    <tr>\n",
       "      <th>18</th>\n",
       "      <td>1.0</td>\n",
       "      <td>50</td>\n",
       "      <td>EXTRAMURS</td>\n",
       "      <td>2670</td>\n",
       "      <td>93450.0</td>\n",
       "    </tr>\n",
       "    <tr>\n",
       "      <th>19</th>\n",
       "      <td>2.0</td>\n",
       "      <td>70</td>\n",
       "      <td>CAMINS AL GRAU</td>\n",
       "      <td>2232</td>\n",
       "      <td>109368.0</td>\n",
       "    </tr>\n",
       "  </tbody>\n",
       "</table>\n",
       "</div>"
      ],
      "text/plain": [
       "    bedrooms   m2          distrito  precio_m2  precio_compra\n",
       "0        2.0   70         LA SAIDIA       1951        95599.0\n",
       "1        1.0   50      CIUTAT VELLA       3255       113925.0\n",
       "2        3.0   90         EXTRAMURS       2670       168210.0\n",
       "3        5.0  150  POBLATS MARITIMS       2168       227640.0\n",
       "4        1.0   50      CIUTAT VELLA       3255       113925.0\n",
       "5        5.0  150  POBLATS MARITIMS       2168       227640.0\n",
       "6        1.0   50      CIUTAT VELLA       3255       113925.0\n",
       "7        1.0   50   QUATRE CARRERES       2077        72695.0\n",
       "8        1.0   50         EXTRAMURS       2670        93450.0\n",
       "9        1.0   50      CIUTAT VELLA       3255       113925.0\n",
       "10       1.0   50       L'OLIVERETA       1650        57750.0\n",
       "11       2.0   70    CAMINS AL GRAU       2232       109368.0\n",
       "12       2.0   70      CIUTAT VELLA       3255       159495.0\n",
       "13       1.0   50      CIUTAT VELLA       3255       113925.0\n",
       "14       1.0   50  POBLATS MARITIMS       2168        75880.0\n",
       "15       2.0   70  POBLATS MARITIMS       2168       106232.0\n",
       "16       1.0   50         EXTRAMURS       2670        93450.0\n",
       "17       1.0   50   QUATRE CARRERES       2077        72695.0\n",
       "18       1.0   50         EXTRAMURS       2670        93450.0\n",
       "19       2.0   70    CAMINS AL GRAU       2232       109368.0"
      ]
     },
     "execution_count": 46,
     "metadata": {},
     "output_type": "execute_result"
    }
   ],
   "source": [
    "df[['bedrooms','m2','distrito','precio_m2','precio_compra']].head(20)"
   ]
  },
  {
   "cell_type": "markdown",
   "id": "bf5f2b4b",
   "metadata": {},
   "source": [
    "**Calculo de variables punto de interés**"
   ]
  },
  {
   "cell_type": "markdown",
   "id": "1b1a555f",
   "metadata": {},
   "source": [
    "Vamos a calcular la distancia de cada inmueble al Oceanografic y plaza de la Virgen .\n",
    "\n",
    "Para ello buscamos en Google su longitud y latitud: https://www.123coordenadas.com/\n",
    "\n",
    "**Oceanografic**\n",
    "Latitud: 39.4521628\n",
    "Longitud: -0.3479952\n",
    "\n",
    "**Plaza de la Virgen**\n",
    "Latitud: 39.47639115\n",
    "Longitud: -0.375277474765649\n",
    "\n",
    "Dada la curvatura de la tierra la distancia entre dos puntos a partir de su latitud y longitud se calcula con una fórmula que se llama distancia de Haversine.\n"
   ]
  },
  {
   "cell_type": "code",
   "execution_count": 47,
   "id": "3faa2114",
   "metadata": {},
   "outputs": [],
   "source": [
    "from math import radians, cos, sin, asin, sqrt\n",
    "\n",
    "def haversine(lat1, lon1, lat2, lon2):\n",
    "\n",
    "      R = 6372.8 #En km, si usas millas tienes que cambiarlo por 3959.87433\n",
    "\n",
    "      dLat = radians(lat2 - lat1)\n",
    "      dLon = radians(lon2 - lon1)\n",
    "      lat1 = radians(lat1)\n",
    "      lat2 = radians(lat2)\n",
    "\n",
    "      a = sin(dLat/2)**2 + cos(lat1)*cos(lat2)*sin(dLon/2)**2\n",
    "      c = 2*asin(sqrt(a))\n",
    "\n",
    "      return R * c"
   ]
  },
  {
   "cell_type": "markdown",
   "id": "bcb427a3",
   "metadata": {},
   "source": [
    "Creamos la variable"
   ]
  },
  {
   "cell_type": "code",
   "execution_count": 48,
   "id": "d5c0fa0d",
   "metadata": {},
   "outputs": [],
   "source": [
    "#Las coordenadas del Oceanografic  serán lat1 y lon1, plaza de la Virgen lat2 y lon2\n",
    "lat1 = 39.4521628\n",
    "lon1 = -0.3479952\n",
    "lat2 = 39.47639115\n",
    "lon2 =  -0.375277474765649\n",
    "\n",
    "df['pdi_oceano'] = df.apply(lambda registro: haversine(lat1,lon1,registro.latitude,registro.longitude),axis = 1)\n",
    "df['pdi_plaza'] = df.apply(lambda registro: haversine(lat2,lon2,registro.latitude,registro.longitude),axis = 1)"
   ]
  },
  {
   "cell_type": "markdown",
   "id": "ed96230c",
   "metadata": {},
   "source": [
    "Comprobamos revisando la distancia media por distritos."
   ]
  },
  {
   "cell_type": "code",
   "execution_count": 49,
   "id": "357d755f",
   "metadata": {},
   "outputs": [
    {
     "data": {
      "text/plain": [
       "distrito\n",
       "CAMINS AL GRAU        1.457433\n",
       "QUATRE CARRERES       1.696910\n",
       "ALGIROS               2.311117\n",
       "L'EIXAMPLE            2.442210\n",
       "POBLATS MARITIMS      2.473822\n",
       "EL PLA DEL REAL       2.556744\n",
       "JESUS                 3.479681\n",
       "CIUTAT VELLA          3.577753\n",
       "EXTRAMURS             3.687867\n",
       "BENIMACLET            3.869860\n",
       "PATRAIX               4.190840\n",
       "LA SAIDIA             4.400644\n",
       "L'OLIVERETA           4.829963\n",
       "RASCANYA              4.981120\n",
       "CAMPANAR              5.315074\n",
       "BENICALAP             5.891119\n",
       "POBLATS DE L'OEST     7.917790\n",
       "POBLATS DEL NORD      8.787810\n",
       "POBLATS DEL SUD      13.210268\n",
       "Name: pdi_oceano, dtype: float64"
      ]
     },
     "execution_count": 49,
     "metadata": {},
     "output_type": "execute_result"
    }
   ],
   "source": [
    "df.groupby('distrito').pdi_oceano.mean().sort_values()"
   ]
  },
  {
   "cell_type": "code",
   "execution_count": 50,
   "id": "9ef6ddcc",
   "metadata": {},
   "outputs": [
    {
     "data": {
      "text/plain": [
       "distrito\n",
       "CIUTAT VELLA          0.487432\n",
       "LA SAIDIA             1.069296\n",
       "EXTRAMURS             1.277371\n",
       "EL PLA DEL REAL       1.559612\n",
       "L'EIXAMPLE            1.586854\n",
       "BENIMACLET            1.683013\n",
       "CAMPANAR              1.850046\n",
       "RASCANYA              1.985662\n",
       "L'OLIVERETA           2.229172\n",
       "BENICALAP             2.341120\n",
       "PATRAIX               2.486172\n",
       "QUATRE CARRERES       2.503309\n",
       "ALGIROS               2.583722\n",
       "JESUS                 2.750401\n",
       "CAMINS AL GRAU        2.778769\n",
       "POBLATS MARITIMS      4.017646\n",
       "POBLATS DE L'OEST     4.401876\n",
       "POBLATS DEL NORD      5.715007\n",
       "POBLATS DEL SUD      16.299764\n",
       "Name: pdi_plaza, dtype: float64"
      ]
     },
     "execution_count": 50,
     "metadata": {},
     "output_type": "execute_result"
    }
   ],
   "source": [
    "df.groupby('distrito').pdi_plaza.mean().sort_values()"
   ]
  },
  {
   "cell_type": "markdown",
   "id": "9b9e43fd",
   "metadata": {},
   "source": [
    "## GUARDAMOS EN EL DATAMART"
   ]
  },
  {
   "cell_type": "markdown",
   "id": "0616fce6",
   "metadata": {},
   "source": [
    "Vamos a guardar esta version como df_preparado"
   ]
  },
  {
   "cell_type": "code",
   "execution_count": 51,
   "id": "ca539860",
   "metadata": {},
   "outputs": [
    {
     "data": {
      "text/plain": [
       "8324"
      ]
     },
     "execution_count": 51,
     "metadata": {},
     "output_type": "execute_result"
    }
   ],
   "source": [
    "df.to_sql('df_preparado', con = con, if_exists = 'replace')"
   ]
  }
 ],
 "metadata": {
  "kernelspec": {
   "display_name": "Python 3 (ipykernel)",
   "language": "python",
   "name": "python3"
  },
  "language_info": {
   "codemirror_mode": {
    "name": "ipython",
    "version": 3
   },
   "file_extension": ".py",
   "mimetype": "text/x-python",
   "name": "python",
   "nbconvert_exporter": "python",
   "pygments_lexer": "ipython3",
   "version": "3.11.5"
  },
  "toc": {
   "base_numbering": 1,
   "nav_menu": {},
   "number_sections": true,
   "sideBar": true,
   "skip_h1_title": false,
   "title_cell": "Table of Contents",
   "title_sidebar": "Contents",
   "toc_cell": false,
   "toc_position": {},
   "toc_section_display": true,
   "toc_window_display": true
  },
  "varInspector": {
   "cols": {
    "lenName": 16,
    "lenType": 16,
    "lenVar": 40
   },
   "kernels_config": {
    "python": {
     "delete_cmd_postfix": "",
     "delete_cmd_prefix": "del ",
     "library": "var_list.py",
     "varRefreshCmd": "print(var_dic_list())"
    },
    "r": {
     "delete_cmd_postfix": ") ",
     "delete_cmd_prefix": "rm(",
     "library": "var_list.r",
     "varRefreshCmd": "cat(var_dic_list()) "
    }
   },
   "oldHeight": 154.179334,
   "position": {
    "height": "175.833px",
    "left": "1320px",
    "right": "20px",
    "top": "120px",
    "width": "250px"
   },
   "types_to_exclude": [
    "module",
    "function",
    "builtin_function_or_method",
    "instance",
    "_Feature"
   ],
   "varInspector_section_display": "block",
   "window_display": true
  }
 },
 "nbformat": 4,
 "nbformat_minor": 5
}
